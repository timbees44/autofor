{
  "nbformat": 4,
  "nbformat_minor": 0,
  "metadata": {
    "colab": {
      "name": "pre_pro_work_flow.ipynb",
      "provenance": [],
      "authorship_tag": "ABX9TyMPbRF/QK4LW/vsHGp7GLtr",
      "include_colab_link": true
    },
    "kernelspec": {
      "name": "python3",
      "display_name": "Python 3"
    },
    "language_info": {
      "name": "python"
    }
  },
  "cells": [
    {
      "cell_type": "markdown",
      "metadata": {
        "id": "view-in-github",
        "colab_type": "text"
      },
      "source": [
        "<a href=\"https://colab.research.google.com/github/timbees44/autofor/blob/master/pre_pro_work_flow.ipynb\" target=\"_parent\"><img src=\"https://colab.research.google.com/assets/colab-badge.svg\" alt=\"Open In Colab\"/></a>"
      ]
    },
    {
      "cell_type": "code",
      "metadata": {
        "colab": {
          "base_uri": "https://localhost:8080/"
        },
        "id": "6xqm725LtabW",
        "outputId": "20bbeae8-11fc-4200-df8b-caac654c5ecc"
      },
      "source": [
        "!pip install pandas sklearn"
      ],
      "execution_count": null,
      "outputs": [
        {
          "output_type": "stream",
          "text": [
            "Requirement already satisfied: pandas in /usr/local/lib/python3.7/dist-packages (1.1.5)\n",
            "Requirement already satisfied: sklearn in /usr/local/lib/python3.7/dist-packages (0.0)\n",
            "Requirement already satisfied: python-dateutil>=2.7.3 in /usr/local/lib/python3.7/dist-packages (from pandas) (2.8.1)\n",
            "Requirement already satisfied: numpy>=1.15.4 in /usr/local/lib/python3.7/dist-packages (from pandas) (1.19.5)\n",
            "Requirement already satisfied: pytz>=2017.2 in /usr/local/lib/python3.7/dist-packages (from pandas) (2018.9)\n",
            "Requirement already satisfied: scikit-learn in /usr/local/lib/python3.7/dist-packages (from sklearn) (0.22.2.post1)\n",
            "Requirement already satisfied: six>=1.5 in /usr/local/lib/python3.7/dist-packages (from python-dateutil>=2.7.3->pandas) (1.15.0)\n",
            "Requirement already satisfied: joblib>=0.11 in /usr/local/lib/python3.7/dist-packages (from scikit-learn->sklearn) (1.0.1)\n",
            "Requirement already satisfied: scipy>=0.17.0 in /usr/local/lib/python3.7/dist-packages (from scikit-learn->sklearn) (1.4.1)\n"
          ],
          "name": "stdout"
        }
      ]
    },
    {
      "cell_type": "code",
      "metadata": {
        "id": "50o9hL3ntuGd"
      },
      "source": [
        "import numpy as np\n",
        "import pandas as pd\n",
        "import seaborn as sns\n",
        "import matplotlib.pyplot as plt"
      ],
      "execution_count": null,
      "outputs": []
    },
    {
      "cell_type": "code",
      "metadata": {
        "id": "r0p8R6hqtw3z"
      },
      "source": [
        "# Get the data!!\n",
        "df = pd.read_csv(\"insert csv name path here\")"
      ],
      "execution_count": null,
      "outputs": []
    },
    {
      "cell_type": "code",
      "metadata": {
        "id": "Uo1fY820S3q2"
      },
      "source": [
        "# Duplicate check\n"
      ],
      "execution_count": null,
      "outputs": []
    },
    {
      "cell_type": "code",
      "metadata": {
        "id": "37TWqDRES5vd"
      },
      "source": [
        "# Error correction"
      ],
      "execution_count": null,
      "outputs": []
    },
    {
      "cell_type": "markdown",
      "metadata": {
        "id": "XDaVKkb4D-tD"
      },
      "source": [
        "# **Missing Values**\n",
        "\n",
        "```\n",
        "# Remove missing data\n",
        "\n",
        "# Remove any rows with missing data\n",
        "print(df.dropna())\n",
        "\n",
        "# Remove specific rows\n",
        "print(df.drop([1,2,3.....]))\n",
        "\n",
        "# Remove column(s)\n",
        "print(df.drop(\"A\", axis=1)) # \"axis=1\" denotes that columns being dropped\n",
        "\n",
        "# Drop row where data is missing or is specific value in a particular column\n",
        "# use boolean condition e.g. drop all rows where value in column B == 7\n",
        "print(df[df[\"B\"] == 7]) \n",
        "\n",
        "# Check null values e.g. column B\n",
        "print(df[\"B\"].isnull().sum())\n",
        "\n",
        "# Filter out null values in column\n",
        "print(df[df[\"B\"].notnull()])\n",
        "\n",
        "# Remove columns based on non-NaN values (thresh)\n",
        "print(df.dropna(axis=1, thresh=x))\n",
        "```\n",
        "\n"
      ]
    },
    {
      "cell_type": "code",
      "metadata": {
        "id": "8rQ1BwWgS9yu"
      },
      "source": [
        ""
      ],
      "execution_count": null,
      "outputs": []
    },
    {
      "cell_type": "markdown",
      "metadata": {
        "id": "elxHlUbnWhja"
      },
      "source": [
        "# Data Types\n",
        "\n",
        "```\n",
        "# Check data type\n",
        "print(df.dtypes)\n",
        "\n",
        "# Convert column type, e.g. float, int, str, datetime\n",
        "df[\"column\"] = df[\"column\"].astype(\"float\")\n",
        "\n",
        "\n",
        "```"
      ]
    },
    {
      "cell_type": "code",
      "metadata": {
        "id": "qkkKrZ-5TEHU"
      },
      "source": [
        "\n"
      ],
      "execution_count": null,
      "outputs": []
    },
    {
      "cell_type": "markdown",
      "metadata": {
        "id": "CSk7lt4oXpLd"
      },
      "source": [
        "# Class Distribution\n",
        "\n",
        "```\n",
        "# Splitting up the training set\n",
        "\n",
        "# import sklearn split\n",
        "from sklearn.model_selection import train_test_split\n",
        "\n",
        "# do the split\n",
        "X_train, X_test, y_train, y_test = train_test_split(X, y)\n",
        "\n",
        "# Stratified sampling\n",
        "X_train, X_test, y_train, y_test = train_test_split(X, y, stratify=y)\n",
        "```"
      ]
    },
    {
      "cell_type": "code",
      "metadata": {
        "id": "eRTbf-sRXrlW"
      },
      "source": [
        ""
      ],
      "execution_count": null,
      "outputs": []
    },
    {
      "cell_type": "markdown",
      "metadata": {
        "id": "reQYkuGNIJTo"
      },
      "source": [
        "# Standardisation\n",
        "\n",
        "```\n",
        "```\n",
        "\n"
      ]
    },
    {
      "cell_type": "code",
      "metadata": {
        "id": "joHmfYtUTAx0"
      },
      "source": [
        "# Standardisation"
      ],
      "execution_count": null,
      "outputs": []
    },
    {
      "cell_type": "code",
      "metadata": {
        "id": "pX3JvUGcVhoC"
      },
      "source": [
        "# Randomisation"
      ],
      "execution_count": null,
      "outputs": []
    },
    {
      "cell_type": "code",
      "metadata": {
        "id": "AwQdF-1qVjaK"
      },
      "source": [
        "# Visualisation"
      ],
      "execution_count": null,
      "outputs": []
    },
    {
      "cell_type": "code",
      "metadata": {
        "id": "C_axgmP-VpSK"
      },
      "source": [
        "# Further exploratory analysis"
      ],
      "execution_count": null,
      "outputs": []
    }
  ]
}